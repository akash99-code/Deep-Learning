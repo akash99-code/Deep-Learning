{
  "cells": [
    {
      "cell_type": "markdown",
      "id": "83a33e11-e2dd-4008-ba8a-7d0de41d41ae",
      "metadata": {
        "id": "83a33e11-e2dd-4008-ba8a-7d0de41d41ae"
      },
      "source": [
        "## Tensors"
      ]
    },
    {
      "cell_type": "markdown",
      "id": "e940f210-930f-4106-a2ed-92a1a31e65e8",
      "metadata": {
        "id": "e940f210-930f-4106-a2ed-92a1a31e65e8"
      },
      "source": [
        "Tensors are data structure used in Pytorch.\n",
        "Features of Tensors:\n",
        "- Can be processed in GPU \n",
        "- Bridged with Numpy object\n",
        "- Optimized for automatic differentiation"
      ]
    },
    {
      "cell_type": "markdown",
      "id": "417cdfd8-56cc-48c0-a283-cc58df7d23a9",
      "metadata": {
        "jp-MarkdownHeadingCollapsed": true,
        "tags": [],
        "id": "417cdfd8-56cc-48c0-a283-cc58df7d23a9"
      },
      "source": [
        "#### Importing"
      ]
    },
    {
      "cell_type": "code",
      "execution_count": null,
      "id": "128c575f-61dd-4e57-92f7-0a137666d736",
      "metadata": {
        "id": "128c575f-61dd-4e57-92f7-0a137666d736"
      },
      "outputs": [],
      "source": [
        "import torch\n",
        "import numpy as np"
      ]
    },
    {
      "cell_type": "markdown",
      "id": "e2517ff4-2556-409c-8557-bee00ac0ce5d",
      "metadata": {
        "jp-MarkdownHeadingCollapsed": true,
        "tags": [],
        "id": "e2517ff4-2556-409c-8557-bee00ac0ce5d"
      },
      "source": [
        "#### Initializing a Tensor"
      ]
    },
    {
      "cell_type": "code",
      "execution_count": null,
      "id": "f2b50ea9-4a08-40dc-a618-ded78555adaf",
      "metadata": {
        "colab": {
          "base_uri": "https://localhost:8080/"
        },
        "id": "f2b50ea9-4a08-40dc-a618-ded78555adaf",
        "outputId": "52ce26ac-dd5a-4421-a130-8b12e0bee8f4"
      },
      "outputs": [
        {
          "output_type": "execute_result",
          "data": {
            "text/plain": [
              "tensor([[1, 2, 3],\n",
              "        [5, 3, 9]])"
            ]
          },
          "metadata": {},
          "execution_count": 2
        }
      ],
      "source": [
        "## Directly from data\n",
        "data = [[1,2,3],[5,3,9]]\n",
        "tensor = torch.tensor(data)\n",
        "tensor"
      ]
    },
    {
      "cell_type": "code",
      "execution_count": null,
      "id": "36190883-aad5-47c0-90fe-85ed941a7a87",
      "metadata": {
        "colab": {
          "base_uri": "https://localhost:8080/"
        },
        "id": "36190883-aad5-47c0-90fe-85ed941a7a87",
        "outputId": "0e632139-5454-4e9f-c3ec-c5003480fa47"
      },
      "outputs": [
        {
          "output_type": "execute_result",
          "data": {
            "text/plain": [
              "tensor([[1, 2, 3],\n",
              "        [2, 0, 3],\n",
              "        [4, 4, 3]])"
            ]
          },
          "metadata": {},
          "execution_count": 3
        }
      ],
      "source": [
        "## From Numpy\n",
        "data = np.random.randint(0,5,(3,3))\n",
        "tensor = torch.tensor(data)\n",
        "tensor"
      ]
    },
    {
      "cell_type": "code",
      "execution_count": null,
      "id": "e9b75ca6-4c44-490f-bbac-be7a7dbf8aca",
      "metadata": {
        "colab": {
          "base_uri": "https://localhost:8080/"
        },
        "id": "e9b75ca6-4c44-490f-bbac-be7a7dbf8aca",
        "outputId": "1ec4faa0-ca41-4aa9-d8a8-14d4084bbc04"
      },
      "outputs": [
        {
          "output_type": "stream",
          "name": "stdout",
          "text": [
            "tensor([[0.8063, 0.4578, 0.5081],\n",
            "        [0.3262, 0.9073, 0.9747],\n",
            "        [0.2604, 0.7402, 0.6642]])\n",
            "tensor([[1, 1, 1],\n",
            "        [1, 1, 1],\n",
            "        [1, 1, 1]])\n"
          ]
        }
      ],
      "source": [
        "## from another tensor\n",
        "t = torch.rand_like(tensor, dtype=torch.float) ## we need to overide the tensor datatype\n",
        "print(t)\n",
        "t = torch.ones_like(tensor)\n",
        "print(t)"
      ]
    },
    {
      "cell_type": "code",
      "execution_count": null,
      "id": "f030b380-72b2-4fbd-86e2-d6ca5b007c73",
      "metadata": {
        "colab": {
          "base_uri": "https://localhost:8080/"
        },
        "id": "f030b380-72b2-4fbd-86e2-d6ca5b007c73",
        "outputId": "01b2e4c4-7736-45cb-bc50-c4e686444921"
      },
      "outputs": [
        {
          "output_type": "stream",
          "name": "stdout",
          "text": [
            "tensor([[1., 1., 1.],\n",
            "        [1., 1., 1.]])\n",
            "tensor([[0., 0., 0.],\n",
            "        [0., 0., 0.],\n",
            "        [0., 0., 0.]])\n",
            "tensor([[0.4389, 0.2119],\n",
            "        [0.2034, 0.2392],\n",
            "        [0.0220, 0.1861]])\n"
          ]
        }
      ],
      "source": [
        "##  generating tensors\n",
        "print(torch.ones((2,3)))  #ones\n",
        "print(torch.zeros((3,3))) #zeros\n",
        "print(torch.rand((3,2)))  #randoms\n"
      ]
    },
    {
      "cell_type": "markdown",
      "id": "89530844-c842-42d3-82d3-1d516284d493",
      "metadata": {
        "jp-MarkdownHeadingCollapsed": true,
        "tags": [],
        "id": "89530844-c842-42d3-82d3-1d516284d493"
      },
      "source": [
        "#### Attributes of Tensor"
      ]
    },
    {
      "cell_type": "code",
      "execution_count": null,
      "id": "0f1bfd04-f48f-4b0d-b487-beef1177f8d0",
      "metadata": {
        "colab": {
          "base_uri": "https://localhost:8080/"
        },
        "id": "0f1bfd04-f48f-4b0d-b487-beef1177f8d0",
        "outputId": "3b703124-86a5-471a-b2de-789cd86d7bed"
      },
      "outputs": [
        {
          "output_type": "stream",
          "name": "stdout",
          "text": [
            "Shape: torch.Size([4, 5])\n",
            "Datatype: torch.float32\n",
            "Device location: cpu\n"
          ]
        }
      ],
      "source": [
        "tensor = torch.rand(4,5)\n",
        "\n",
        "print(\"Shape:\",tensor.shape)\n",
        "print(\"Datatype:\",tensor.dtype)\n",
        "print(\"Device location:\",tensor.device)\n"
      ]
    },
    {
      "cell_type": "markdown",
      "id": "8830612e-8122-40ef-903a-95080f604422",
      "metadata": {
        "id": "8830612e-8122-40ef-903a-95080f604422"
      },
      "source": [
        "#### Operations on Tensor"
      ]
    },
    {
      "cell_type": "code",
      "execution_count": null,
      "id": "ea8e876d-2a00-44ee-8267-a71e60cb451a",
      "metadata": {
        "colab": {
          "base_uri": "https://localhost:8080/"
        },
        "id": "ea8e876d-2a00-44ee-8267-a71e60cb451a",
        "outputId": "08b33d3a-0147-48f3-f2ea-d0ff5700c1e0"
      },
      "outputs": [
        {
          "output_type": "stream",
          "name": "stdout",
          "text": [
            "GPU is Available\n"
          ]
        }
      ],
      "source": [
        "## Moving tensors to GPU for operartions\n",
        "if torch.cuda.is_available():\n",
        "  print('GPU is Available')\n",
        "  tensor = tensor.to(\"cuda\")"
      ]
    },
    {
      "cell_type": "code",
      "source": [
        "## Numpy-like operations\n",
        "print(\"First row:\", tensor[0])\n",
        "print(\"First column:\", tensor[:, 0])\n",
        "print(\"Last column:\", tensor[:,-1])\n",
        "tensor[0]=0\n",
        "print(\"edited tensor:\",tensor)"
      ],
      "metadata": {
        "colab": {
          "base_uri": "https://localhost:8080/"
        },
        "id": "iS6dZvWa56Lz",
        "outputId": "ce4d0923-6f59-4763-a16b-af54793d18b8"
      },
      "id": "iS6dZvWa56Lz",
      "execution_count": null,
      "outputs": [
        {
          "output_type": "stream",
          "name": "stdout",
          "text": [
            "First row: tensor([0., 0., 0., 0., 0.], device='cuda:0')\n",
            "First column: tensor([0.0000, 0.0186, 0.4255, 0.2019], device='cuda:0')\n",
            "Last column: tensor([0.0000, 0.9465, 0.0493, 0.6998], device='cuda:0')\n",
            "edited tensor: tensor([[0.0000, 0.0000, 0.0000, 0.0000, 0.0000],\n",
            "        [0.0186, 0.6943, 0.5003, 0.0149, 0.9465],\n",
            "        [0.4255, 0.8767, 0.7076, 0.5063, 0.0493],\n",
            "        [0.2019, 0.3934, 0.7882, 0.4575, 0.6998]], device='cuda:0')\n"
          ]
        }
      ]
    },
    {
      "cell_type": "code",
      "source": [
        "## Joining tensor\n",
        "print(torch.cat([tensor, tensor]))\n",
        "print()\n",
        "print(torch.stack([tensor,tensor]))"
      ],
      "metadata": {
        "colab": {
          "base_uri": "https://localhost:8080/"
        },
        "id": "--dztXco6ud7",
        "outputId": "2e45d92b-6acb-4cb7-b2ca-2877fb2e4fc1"
      },
      "id": "--dztXco6ud7",
      "execution_count": null,
      "outputs": [
        {
          "output_type": "stream",
          "name": "stdout",
          "text": [
            "tensor([[0.0000, 0.0000, 0.0000, 0.0000, 0.0000],\n",
            "        [0.0186, 0.6943, 0.5003, 0.0149, 0.9465],\n",
            "        [0.4255, 0.8767, 0.7076, 0.5063, 0.0493],\n",
            "        [0.2019, 0.3934, 0.7882, 0.4575, 0.6998],\n",
            "        [0.0000, 0.0000, 0.0000, 0.0000, 0.0000],\n",
            "        [0.0186, 0.6943, 0.5003, 0.0149, 0.9465],\n",
            "        [0.4255, 0.8767, 0.7076, 0.5063, 0.0493],\n",
            "        [0.2019, 0.3934, 0.7882, 0.4575, 0.6998]], device='cuda:0')\n",
            "\n",
            "tensor([[[0.0000, 0.0000, 0.0000, 0.0000, 0.0000],\n",
            "         [0.0186, 0.6943, 0.5003, 0.0149, 0.9465],\n",
            "         [0.4255, 0.8767, 0.7076, 0.5063, 0.0493],\n",
            "         [0.2019, 0.3934, 0.7882, 0.4575, 0.6998]],\n",
            "\n",
            "        [[0.0000, 0.0000, 0.0000, 0.0000, 0.0000],\n",
            "         [0.0186, 0.6943, 0.5003, 0.0149, 0.9465],\n",
            "         [0.4255, 0.8767, 0.7076, 0.5063, 0.0493],\n",
            "         [0.2019, 0.3934, 0.7882, 0.4575, 0.6998]]], device='cuda:0')\n"
          ]
        }
      ]
    },
    {
      "cell_type": "code",
      "source": [
        "## Arithmetic Operations\n",
        "tensor = torch.ones(3,3)\n",
        "\n",
        "# Matrix Multiplication\n",
        "t1 = tensor@tensor.T\n",
        "t2 = tensor.matmul(tensor.T)\n",
        "print(t1)\n",
        "print( t2)\n",
        "\n",
        "t3 = torch.rand_like(t1)\n",
        "torch.matmul(tensor, tensor.T, out=t3)\n",
        "print(t3)"
      ],
      "metadata": {
        "colab": {
          "base_uri": "https://localhost:8080/"
        },
        "id": "MT9Rc9A77iPi",
        "outputId": "19ac61ed-263e-4c30-c16f-5c791feab9ad"
      },
      "id": "MT9Rc9A77iPi",
      "execution_count": null,
      "outputs": [
        {
          "output_type": "stream",
          "name": "stdout",
          "text": [
            "tensor([[3., 3., 3.],\n",
            "        [3., 3., 3.],\n",
            "        [3., 3., 3.]])\n",
            "tensor([[3., 3., 3.],\n",
            "        [3., 3., 3.],\n",
            "        [3., 3., 3.]])\n",
            "tensor([[3., 3., 3.],\n",
            "        [3., 3., 3.],\n",
            "        [3., 3., 3.]])\n"
          ]
        }
      ]
    },
    {
      "cell_type": "code",
      "source": [
        "# Single-element tensors\n",
        "agg = tensor.sum()\n",
        "print(agg.item())\n",
        "print(type(agg.item()))"
      ],
      "metadata": {
        "colab": {
          "base_uri": "https://localhost:8080/"
        },
        "id": "0uwjmBPk8Twl",
        "outputId": "d3508093-2530-490f-fa9c-c29c19c52555"
      },
      "id": "0uwjmBPk8Twl",
      "execution_count": null,
      "outputs": [
        {
          "output_type": "stream",
          "name": "stdout",
          "text": [
            "9.0\n",
            "<class 'float'>\n"
          ]
        }
      ]
    },
    {
      "cell_type": "code",
      "source": [
        "# In-place operations\n",
        "# > They are achieved by adding  `_`suffix after any operation\n",
        "print(tensor.add_(5))\n"
      ],
      "metadata": {
        "colab": {
          "base_uri": "https://localhost:8080/"
        },
        "id": "BRhnoeZj9dDy",
        "outputId": "555b2e72-36f3-4790-efd4-7449d124524b"
      },
      "id": "BRhnoeZj9dDy",
      "execution_count": null,
      "outputs": [
        {
          "output_type": "stream",
          "name": "stdout",
          "text": [
            "tensor([[16., 16., 16.],\n",
            "        [16., 16., 16.],\n",
            "        [16., 16., 16.]])\n"
          ]
        }
      ]
    },
    {
      "cell_type": "markdown",
      "source": [
        "#### Bridge with NumPy"
      ],
      "metadata": {
        "id": "_0b6vSQFEb1i"
      },
      "id": "_0b6vSQFEb1i"
    },
    {
      "cell_type": "code",
      "source": [
        "## Tensor to NumPy array\n",
        "arr = tensor.numpy()\n",
        "print(arr)\n",
        "type(arr)"
      ],
      "metadata": {
        "colab": {
          "base_uri": "https://localhost:8080/"
        },
        "id": "YXSDrhjpEP4D",
        "outputId": "5f5292aa-0818-461c-b323-58f1b0c25dce"
      },
      "id": "YXSDrhjpEP4D",
      "execution_count": null,
      "outputs": [
        {
          "output_type": "stream",
          "name": "stdout",
          "text": [
            "[[16. 16. 16.]\n",
            " [16. 16. 16.]\n",
            " [16. 16. 16.]]\n"
          ]
        },
        {
          "output_type": "execute_result",
          "data": {
            "text/plain": [
              "numpy.ndarray"
            ]
          },
          "metadata": {},
          "execution_count": 37
        }
      ]
    },
    {
      "cell_type": "code",
      "source": [
        "## data of the numpy object and the tensor object occupies the same memory location\n",
        "tensor.sub_(14)\n",
        "print(tensor)\n",
        "print(arr)"
      ],
      "metadata": {
        "colab": {
          "base_uri": "https://localhost:8080/"
        },
        "id": "ywrJBJUIE1xa",
        "outputId": "fc2c1937-7525-41bc-927a-cbf2ec25b4c2"
      },
      "id": "ywrJBJUIE1xa",
      "execution_count": null,
      "outputs": [
        {
          "output_type": "stream",
          "name": "stdout",
          "text": [
            "tensor([[2., 2., 2.],\n",
            "        [2., 2., 2.],\n",
            "        [2., 2., 2.]])\n",
            "[[2. 2. 2.]\n",
            " [2. 2. 2.]\n",
            " [2. 2. 2.]]\n"
          ]
        }
      ]
    },
    {
      "cell_type": "code",
      "source": [
        "## Numpy to Tensor\n",
        "arr = np.ones(5)\n",
        "t = torch.from_numpy(arr)\n",
        "\n",
        "print(t)\n",
        "print()\n",
        "#changes in numpy array is reflected in Tensor\n",
        "np.add(arr,1, out=arr)\n",
        "print(t)"
      ],
      "metadata": {
        "colab": {
          "base_uri": "https://localhost:8080/"
        },
        "id": "5f8pPXdGFTui",
        "outputId": "2e3e0ecf-3c61-483d-b3f2-8a85c1eb0153"
      },
      "id": "5f8pPXdGFTui",
      "execution_count": null,
      "outputs": [
        {
          "output_type": "stream",
          "name": "stdout",
          "text": [
            "tensor([1., 1., 1., 1., 1.], dtype=torch.float64)\n",
            "\n",
            "tensor([2., 2., 2., 2., 2.], dtype=torch.float64)\n"
          ]
        }
      ]
    }
  ],
  "metadata": {
    "kernelspec": {
      "display_name": "Python 3 (ipykernel)",
      "language": "python",
      "name": "python3"
    },
    "language_info": {
      "codemirror_mode": {
        "name": "ipython",
        "version": 3
      },
      "file_extension": ".py",
      "mimetype": "text/x-python",
      "name": "python",
      "nbconvert_exporter": "python",
      "pygments_lexer": "ipython3",
      "version": "3.9.12"
    },
    "colab": {
      "provenance": []
    },
    "accelerator": "GPU",
    "gpuClass": "standard"
  },
  "nbformat": 4,
  "nbformat_minor": 5
}