{
 "cells": [
  {
   "cell_type": "markdown",
   "id": "83a33e11-e2dd-4008-ba8a-7d0de41d41ae",
   "metadata": {},
   "source": [
    "## Tensors"
   ]
  },
  {
   "cell_type": "markdown",
   "id": "e940f210-930f-4106-a2ed-92a1a31e65e8",
   "metadata": {},
   "source": [
    "Tensors are data structure used in Pytorch.\n",
    "Features of Tensors:\n",
    "- Can be processed in GPU \n",
    "- Bridged with Numpy object\n",
    "- Optimized for automatic differentiation"
   ]
  },
  {
   "cell_type": "markdown",
   "id": "417cdfd8-56cc-48c0-a283-cc58df7d23a9",
   "metadata": {
    "jp-MarkdownHeadingCollapsed": true,
    "tags": []
   },
   "source": [
    "#### Importing"
   ]
  },
  {
   "cell_type": "code",
   "execution_count": 3,
   "id": "128c575f-61dd-4e57-92f7-0a137666d736",
   "metadata": {},
   "outputs": [],
   "source": [
    "import torch\n",
    "import numpy as np"
   ]
  },
  {
   "cell_type": "markdown",
   "id": "e2517ff4-2556-409c-8557-bee00ac0ce5d",
   "metadata": {
    "jp-MarkdownHeadingCollapsed": true,
    "tags": []
   },
   "source": [
    "#### Initializing a Tensor"
   ]
  },
  {
   "cell_type": "code",
   "execution_count": 5,
   "id": "f2b50ea9-4a08-40dc-a618-ded78555adaf",
   "metadata": {},
   "outputs": [
    {
     "data": {
      "text/plain": [
       "tensor([[1, 2, 3],\n",
       "        [5, 3, 9]])"
      ]
     },
     "execution_count": 5,
     "metadata": {},
     "output_type": "execute_result"
    }
   ],
   "source": [
    "## Directly from data\n",
    "data = [[1,2,3],[5,3,9]]\n",
    "tensor = torch.tensor(data)\n",
    "tensor"
   ]
  },
  {
   "cell_type": "code",
   "execution_count": 10,
   "id": "36190883-aad5-47c0-90fe-85ed941a7a87",
   "metadata": {},
   "outputs": [
    {
     "data": {
      "text/plain": [
       "tensor([[4, 4, 2],\n",
       "        [1, 3, 3],\n",
       "        [3, 2, 2]], dtype=torch.int32)"
      ]
     },
     "execution_count": 10,
     "metadata": {},
     "output_type": "execute_result"
    }
   ],
   "source": [
    "## From Numpy\n",
    "data = np.random.randint(0,5,(3,3))\n",
    "tensor = torch.tensor(data)\n",
    "tensor"
   ]
  },
  {
   "cell_type": "code",
   "execution_count": 20,
   "id": "e9b75ca6-4c44-490f-bbac-be7a7dbf8aca",
   "metadata": {},
   "outputs": [
    {
     "name": "stdout",
     "output_type": "stream",
     "text": [
      "tensor([[0.4871, 0.1951, 0.3867],\n",
      "        [0.6909, 0.6540, 0.9883],\n",
      "        [0.9831, 0.6482, 0.3694]])\n",
      "tensor([[1, 1, 1],\n",
      "        [1, 1, 1],\n",
      "        [1, 1, 1]], dtype=torch.int32)\n"
     ]
    }
   ],
   "source": [
    "## from another tensor\n",
    "t = torch.rand_like(tensor, dtype=torch.float) ## we need to overide the tensor datatype\n",
    "print(t)\n",
    "t = torch.ones_like(tensor)\n",
    "print(t)"
   ]
  },
  {
   "cell_type": "code",
   "execution_count": 22,
   "id": "f030b380-72b2-4fbd-86e2-d6ca5b007c73",
   "metadata": {},
   "outputs": [
    {
     "name": "stdout",
     "output_type": "stream",
     "text": [
      "tensor([[1., 1., 1.],\n",
      "        [1., 1., 1.]])\n",
      "tensor([[0., 0., 0.],\n",
      "        [0., 0., 0.],\n",
      "        [0., 0., 0.]])\n",
      "tensor([[0.5955, 0.8967],\n",
      "        [0.5992, 0.9807],\n",
      "        [0.9029, 0.7925]])\n"
     ]
    }
   ],
   "source": [
    "##  generating tensors\n",
    "print(torch.ones((2,3)))  #ones\n",
    "print(torch.zeros((3,3))) #zeros\n",
    "print(torch.rand((3,2)))  #randoms\n"
   ]
  },
  {
   "cell_type": "markdown",
   "id": "89530844-c842-42d3-82d3-1d516284d493",
   "metadata": {
    "jp-MarkdownHeadingCollapsed": true,
    "tags": []
   },
   "source": [
    "#### Attributes of Tensor"
   ]
  },
  {
   "cell_type": "code",
   "execution_count": 25,
   "id": "0f1bfd04-f48f-4b0d-b487-beef1177f8d0",
   "metadata": {},
   "outputs": [
    {
     "name": "stdout",
     "output_type": "stream",
     "text": [
      "Shape: torch.Size([4, 5])\n",
      "Datatype: torch.float32\n",
      "Device location: cpu\n"
     ]
    }
   ],
   "source": [
    "tensor = torch.rand(4,5)\n",
    "\n",
    "print(\"Shape:\",tensor.shape)\n",
    "print(\"Datatype:\",tensor.dtype)\n",
    "print(\"Device location:\",tensor.device)\n"
   ]
  },
  {
   "cell_type": "markdown",
   "id": "8830612e-8122-40ef-903a-95080f604422",
   "metadata": {},
   "source": [
    "#### Operations on Tensor"
   ]
  },
  {
   "cell_type": "code",
   "execution_count": null,
   "id": "ea8e876d-2a00-44ee-8267-a71e60cb451a",
   "metadata": {},
   "outputs": [],
   "source": []
  }
 ],
 "metadata": {
  "kernelspec": {
   "display_name": "Python 3 (ipykernel)",
   "language": "python",
   "name": "python3"
  },
  "language_info": {
   "codemirror_mode": {
    "name": "ipython",
    "version": 3
   },
   "file_extension": ".py",
   "mimetype": "text/x-python",
   "name": "python",
   "nbconvert_exporter": "python",
   "pygments_lexer": "ipython3",
   "version": "3.9.12"
  }
 },
 "nbformat": 4,
 "nbformat_minor": 5
}
