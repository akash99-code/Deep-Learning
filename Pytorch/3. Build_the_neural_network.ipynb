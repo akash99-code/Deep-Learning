{
  "nbformat": 4,
  "nbformat_minor": 0,
  "metadata": {
    "colab": {
      "provenance": []
    },
    "kernelspec": {
      "name": "python3",
      "display_name": "Python 3"
    },
    "language_info": {
      "name": "python"
    }
  },
  "cells": [
    {
      "cell_type": "markdown",
      "source": [
        "## Build the Neural Network"
      ],
      "metadata": {
        "id": "-w7kUldsJfP0"
      }
    },
    {
      "cell_type": "code",
      "execution_count": 1,
      "metadata": {
        "id": "tokzGn8jJP4U"
      },
      "outputs": [],
      "source": [
        "## importing libraries\n",
        "import os\n",
        "import torch\n",
        "from torch import nn\n",
        "from torch.utils.data import DataLoader\n",
        "from torchvision import datasets, transforms"
      ]
    },
    {
      "cell_type": "markdown",
      "source": [
        "- `torch.nn` - provides all the building blocks you need to build your own neural network.\n",
        "- Every module is a subclass of `nn.Module`.\n",
        "- A neural network module will comprise of layer modules"
      ],
      "metadata": {
        "id": "7H-lHvx9Oo2u"
      }
    },
    {
      "cell_type": "code",
      "source": [
        "## Check GPU availability\n",
        "device = \"cuda\" if torch.cuda.is_available() else \"cpu\"\n",
        "print(f\"Using {device} device\")"
      ],
      "metadata": {
        "colab": {
          "base_uri": "https://localhost:8080/"
        },
        "id": "NpQU32aTK2By",
        "outputId": "81379e13-e2fb-4b3c-b743-0fad753c1b9c"
      },
      "execution_count": 5,
      "outputs": [
        {
          "output_type": "stream",
          "name": "stdout",
          "text": [
            "Using cpu device\n"
          ]
        }
      ]
    },
    {
      "cell_type": "markdown",
      "source": [
        "### Define the Class"
      ],
      "metadata": {
        "id": "Srb9Q7DMK80q"
      }
    },
    {
      "cell_type": "code",
      "source": [
        "class NeuralNetwork(nn.Module): ## inherits nn.Module\n",
        "    def __init__(self):  ## initialize Neural Network\n",
        "        super(NeuralNetwork, self).__init__()\n",
        "        self.flatten = nn.Flatten()\n",
        "        self.linear_relu_stack = nn.Sequential(\n",
        "            nn.Linear(28*28, 512),\n",
        "            nn.ReLU(),\n",
        "            nn.Linear(512, 512),\n",
        "            nn.ReLU(),\n",
        "            nn.Linear(512, 10),\n",
        "        )\n",
        "\n",
        "    def forward(self, x):  ## all operations on input data are defined here\n",
        "        x = self.flatten(x)\n",
        "        logits = self.linear_relu_stack(x)\n",
        "        return logits"
      ],
      "metadata": {
        "id": "mKF7UnlzK8fJ"
      },
      "execution_count": 4,
      "outputs": []
    },
    {
      "cell_type": "code",
      "source": [
        "## Creating a instance of Neural Netwok module and moving it to GPU\n",
        "model = NeuralNetwork().to(device) \n",
        "print(model)"
      ],
      "metadata": {
        "colab": {
          "base_uri": "https://localhost:8080/"
        },
        "id": "O2Cd38bmLfXx",
        "outputId": "c55103b3-ff74-4b4f-ada4-99fb55f9b873"
      },
      "execution_count": 6,
      "outputs": [
        {
          "output_type": "stream",
          "name": "stdout",
          "text": [
            "NeuralNetwork(\n",
            "  (flatten): Flatten(start_dim=1, end_dim=-1)\n",
            "  (linear_relu_stack): Sequential(\n",
            "    (0): Linear(in_features=784, out_features=512, bias=True)\n",
            "    (1): ReLU()\n",
            "    (2): Linear(in_features=512, out_features=512, bias=True)\n",
            "    (3): ReLU()\n",
            "    (4): Linear(in_features=512, out_features=10, bias=True)\n",
            "  )\n",
            ")\n"
          ]
        }
      ]
    },
    {
      "cell_type": "code",
      "source": [
        "## Creating a input\n",
        "X = torch.rand(1, 28, 28, device=device)\n",
        "logits = model(X)\n",
        "print(\"Logits :\", logits)\n",
        "\n",
        "## getting probabilities from sores\n",
        "pred_probab = nn.Softmax(dim=1)(logits)\n",
        "print(\"\\nClass Probabilities :\", pred_probab)\n",
        "\n",
        "## predicted class\n",
        "y_pred = pred_probab.argmax(1)\n",
        "print(f\"\\nPredicted class: {y_pred}\")"
      ],
      "metadata": {
        "colab": {
          "base_uri": "https://localhost:8080/"
        },
        "id": "szr6M9HiOZlC",
        "outputId": "c08b56fb-19db-4927-f4db-f99a88b87331"
      },
      "execution_count": 7,
      "outputs": [
        {
          "output_type": "stream",
          "name": "stdout",
          "text": [
            "Logits : tensor([[-0.0127, -0.0576, -0.0204, -0.0743,  0.0919, -0.0637,  0.0417,  0.0070,\n",
            "         -0.0681,  0.0135]], grad_fn=<AddmmBackward0>)\n",
            "\n",
            "Class Probabilities : tensor([[0.1000, 0.0956, 0.0993, 0.0940, 0.1111, 0.0951, 0.1056, 0.1020, 0.0946,\n",
            "         0.1027]], grad_fn=<SoftmaxBackward0>)\n",
            "\n",
            "Predicted class: tensor([4])\n"
          ]
        }
      ]
    },
    {
      "cell_type": "markdown",
      "source": [
        "### Model Layers"
      ],
      "metadata": {
        "id": "6Kjh44xnOcbP"
      }
    },
    {
      "cell_type": "code",
      "source": [
        "## dummy input\n",
        "input_image = torch.rand(3,28,28) # 28x28 images of batch size 3\n",
        "print(\"Input: \", input_image.size())"
      ],
      "metadata": {
        "colab": {
          "base_uri": "https://localhost:8080/"
        },
        "id": "FLohX9w7Rbk7",
        "outputId": "f75fe7b7-f8cd-4fce-83dc-0c07cd0e46f6"
      },
      "execution_count": 9,
      "outputs": [
        {
          "output_type": "stream",
          "name": "stdout",
          "text": [
            "Input:  torch.Size([3, 28, 28])\n"
          ]
        }
      ]
    },
    {
      "cell_type": "markdown",
      "source": [
        "> nn.Flatten  \n",
        "\n",
        "- This layer flattens the images. Here, it will convert each 2D 28x28 image into a contiguous array of 784 pixel values ( the minibatch dimension (at dim=0) is maintained)."
      ],
      "metadata": {
        "id": "nsuWbSsTRjXQ"
      }
    },
    {
      "cell_type": "code",
      "source": [
        "flatten = nn.Flatten() ## flatten at dim=0\n",
        "flat_image = flatten(input_image)\n",
        "print('Input after flattening operation:', flat_image.size())"
      ],
      "metadata": {
        "colab": {
          "base_uri": "https://localhost:8080/"
        },
        "id": "gfZpG550RndA",
        "outputId": "15e34aa0-1134-4878-d9da-7e8ac07db7b6"
      },
      "execution_count": 10,
      "outputs": [
        {
          "output_type": "stream",
          "name": "stdout",
          "text": [
            "Input after flattening operation: torch.Size([3, 784])\n"
          ]
        }
      ]
    },
    {
      "cell_type": "markdown",
      "source": [
        "> nn.Linear\n",
        "\n",
        "-  This layer applies a linear transformation on the input using its stored weights and biases."
      ],
      "metadata": {
        "id": "9IYpXeoHRpSg"
      }
    },
    {
      "cell_type": "code",
      "source": [
        "layer1 = nn.Linear(in_features=28*28, out_features=20)\n",
        "hidden1 = layer1(flat_image)\n",
        "print(\"Linear layer effect: \", hidden1.size())"
      ],
      "metadata": {
        "colab": {
          "base_uri": "https://localhost:8080/"
        },
        "id": "YqKU-63uRtw4",
        "outputId": "e15b9c86-b835-4212-d1fc-03eb7ca13659"
      },
      "execution_count": 11,
      "outputs": [
        {
          "output_type": "stream",
          "name": "stdout",
          "text": [
            "Linear layer effect:  torch.Size([3, 20])\n"
          ]
        }
      ]
    },
    {
      "cell_type": "markdown",
      "source": [
        "> nn.ReLU\n",
        "\n",
        "- ReLU activation function"
      ],
      "metadata": {
        "id": "d0cEv5jIRwBy"
      }
    },
    {
      "cell_type": "code",
      "source": [
        "print(f\"Before ReLU: {hidden1}\\n\\n\")\n",
        "hidden1 = nn.ReLU()(hidden1)\n",
        "print(f\"After ReLU: {hidden1}\")"
      ],
      "metadata": {
        "colab": {
          "base_uri": "https://localhost:8080/"
        },
        "id": "so92JxWBRxNy",
        "outputId": "af45256d-e76d-4ec4-f79f-ef9f61ea7be1"
      },
      "execution_count": 11,
      "outputs": [
        {
          "output_type": "stream",
          "name": "stdout",
          "text": [
            "Before ReLU: tensor([[ 0.0765, -0.2275, -0.2063, -0.0518,  0.2393,  0.2751,  0.0668,  0.4275,\n",
            "          0.1290, -0.1931,  0.0763, -0.1507,  0.2638,  0.0401, -0.4388, -0.5212,\n",
            "          0.3772, -0.3718,  0.3522, -0.4703],\n",
            "        [ 0.2904, -0.0241, -0.2105, -0.0668,  0.1269,  0.6301,  0.2063,  0.1487,\n",
            "          0.1072,  0.2201,  0.3875, -0.6165,  0.1536,  0.0438, -0.2857, -0.1727,\n",
            "          0.1878, -0.1233,  0.1325,  0.0459],\n",
            "        [ 0.5166, -0.3252,  0.0307, -0.3154,  0.5411,  0.3619,  0.0159,  0.1711,\n",
            "          0.1616,  0.2657,  0.4050, -0.0355,  0.1383,  0.1713, -0.5681, -0.3367,\n",
            "          0.1887, -0.2423,  0.0710, -0.3843]], grad_fn=<AddmmBackward0>)\n",
            "\n",
            "\n",
            "After ReLU: tensor([[0.0765, 0.0000, 0.0000, 0.0000, 0.2393, 0.2751, 0.0668, 0.4275, 0.1290,\n",
            "         0.0000, 0.0763, 0.0000, 0.2638, 0.0401, 0.0000, 0.0000, 0.3772, 0.0000,\n",
            "         0.3522, 0.0000],\n",
            "        [0.2904, 0.0000, 0.0000, 0.0000, 0.1269, 0.6301, 0.2063, 0.1487, 0.1072,\n",
            "         0.2201, 0.3875, 0.0000, 0.1536, 0.0438, 0.0000, 0.0000, 0.1878, 0.0000,\n",
            "         0.1325, 0.0459],\n",
            "        [0.5166, 0.0000, 0.0307, 0.0000, 0.5411, 0.3619, 0.0159, 0.1711, 0.1616,\n",
            "         0.2657, 0.4050, 0.0000, 0.1383, 0.1713, 0.0000, 0.0000, 0.1887, 0.0000,\n",
            "         0.0710, 0.0000]], grad_fn=<ReluBackward0>)\n"
          ]
        }
      ]
    },
    {
      "cell_type": "markdown",
      "source": [
        "> nn.Sequential\n",
        "\n",
        "- It is an ordered container of modules(layers). Input will pass through the modules in same order as they are defined."
      ],
      "metadata": {
        "id": "-h9AYRn_RzxT"
      }
    },
    {
      "cell_type": "code",
      "source": [
        "## creating module contaner\n",
        "seq_modules = nn.Sequential(\n",
        "    flatten,\n",
        "    layer1,\n",
        "    nn.ReLU(),\n",
        "    nn.Linear(20, 10)\n",
        ")\n",
        "\n",
        "input_image = torch.rand(3,28,28)\n",
        "logits = seq_modules(input_image)\n",
        "print(logits.size())"
      ],
      "metadata": {
        "colab": {
          "base_uri": "https://localhost:8080/"
        },
        "id": "R68Vkb15R0nM",
        "outputId": "a9d30076-adb6-4fea-b0dc-fc443748c15c"
      },
      "execution_count": 13,
      "outputs": [
        {
          "output_type": "stream",
          "name": "stdout",
          "text": [
            "torch.Size([3, 10])\n"
          ]
        }
      ]
    },
    {
      "cell_type": "markdown",
      "source": [
        "> nn.Softmax\n",
        "\n",
        "- Softmax activation (for getting class probabilities)"
      ],
      "metadata": {
        "id": "UqaYqxdIR23q"
      }
    },
    {
      "cell_type": "code",
      "source": [
        "softmax = nn.Softmax(dim=1)  ## dim=1 indicates not to compute softmax across inputs\n",
        "pred_probab = softmax(logits)\n",
        "print('predicted probabilities : ', pred_probab)"
      ],
      "metadata": {
        "colab": {
          "base_uri": "https://localhost:8080/"
        },
        "id": "Q-JfifflR4O7",
        "outputId": "ce758d64-4091-44dc-efb2-8ac80d4c6464"
      },
      "execution_count": 14,
      "outputs": [
        {
          "output_type": "stream",
          "name": "stdout",
          "text": [
            "predicted probabilities :  tensor([[0.0999, 0.1050, 0.0890, 0.1034, 0.0858, 0.1013, 0.1146, 0.1038, 0.1206,\n",
            "         0.0767],\n",
            "        [0.0965, 0.1029, 0.0939, 0.1015, 0.0937, 0.1094, 0.1055, 0.1009, 0.1144,\n",
            "         0.0812],\n",
            "        [0.0870, 0.1034, 0.0979, 0.1144, 0.0874, 0.1093, 0.1126, 0.0946, 0.1124,\n",
            "         0.0811]], grad_fn=<SoftmaxBackward0>)\n"
          ]
        }
      ]
    },
    {
      "cell_type": "markdown",
      "source": [
        "### Model Parameters\n",
        "\n",
        "- `parameters()` and `named_parameters()` give accessed to all the learnable parameters of every layer inside a model, kept tracked by `nn.module`."
      ],
      "metadata": {
        "id": "JH-JeyZ2R5si"
      }
    },
    {
      "cell_type": "code",
      "source": [
        "print(f\"Model structure: {model}\\n\\n\")\n"
      ],
      "metadata": {
        "colab": {
          "base_uri": "https://localhost:8080/"
        },
        "id": "KojBYA6DR9Kq",
        "outputId": "dd27b1ec-6bea-4c7d-ab8e-213219f06c4b"
      },
      "execution_count": 15,
      "outputs": [
        {
          "output_type": "stream",
          "name": "stdout",
          "text": [
            "Model structure: NeuralNetwork(\n",
            "  (flatten): Flatten(start_dim=1, end_dim=-1)\n",
            "  (linear_relu_stack): Sequential(\n",
            "    (0): Linear(in_features=784, out_features=512, bias=True)\n",
            "    (1): ReLU()\n",
            "    (2): Linear(in_features=512, out_features=512, bias=True)\n",
            "    (3): ReLU()\n",
            "    (4): Linear(in_features=512, out_features=10, bias=True)\n",
            "  )\n",
            ")\n",
            "\n",
            "\n"
          ]
        }
      ]
    },
    {
      "cell_type": "code",
      "source": [
        "for name, param in model.named_parameters():\n",
        "    print(f\"Layer: {name} | Size: {param.size()} | Values : {param[:2]} \\n\")"
      ],
      "metadata": {
        "colab": {
          "base_uri": "https://localhost:8080/"
        },
        "id": "wl455B5DzIvE",
        "outputId": "eea3ed89-5b05-4993-849a-46e3a9371525"
      },
      "execution_count": 16,
      "outputs": [
        {
          "output_type": "stream",
          "name": "stdout",
          "text": [
            "Layer: linear_relu_stack.0.weight | Size: torch.Size([512, 784]) | Values : tensor([[ 0.0028, -0.0293, -0.0289,  ..., -0.0024, -0.0004, -0.0161],\n",
            "        [-0.0229, -0.0284,  0.0346,  ..., -0.0306,  0.0326, -0.0112]],\n",
            "       grad_fn=<SliceBackward0>) \n",
            "\n",
            "Layer: linear_relu_stack.0.bias | Size: torch.Size([512]) | Values : tensor([ 0.0287, -0.0113], grad_fn=<SliceBackward0>) \n",
            "\n",
            "Layer: linear_relu_stack.2.weight | Size: torch.Size([512, 512]) | Values : tensor([[ 0.0272,  0.0141,  0.0198,  ..., -0.0073, -0.0225, -0.0143],\n",
            "        [ 0.0216,  0.0424,  0.0432,  ...,  0.0342, -0.0335, -0.0216]],\n",
            "       grad_fn=<SliceBackward0>) \n",
            "\n",
            "Layer: linear_relu_stack.2.bias | Size: torch.Size([512]) | Values : tensor([-0.0219,  0.0219], grad_fn=<SliceBackward0>) \n",
            "\n",
            "Layer: linear_relu_stack.4.weight | Size: torch.Size([10, 512]) | Values : tensor([[ 0.0434, -0.0040, -0.0349,  ..., -0.0346,  0.0104,  0.0094],\n",
            "        [ 0.0289, -0.0419,  0.0259,  ..., -0.0230, -0.0222,  0.0167]],\n",
            "       grad_fn=<SliceBackward0>) \n",
            "\n",
            "Layer: linear_relu_stack.4.bias | Size: torch.Size([10]) | Values : tensor([-0.0318, -0.0275], grad_fn=<SliceBackward0>) \n",
            "\n"
          ]
        }
      ]
    }
  ]
}