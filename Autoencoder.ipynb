{
 "cells": [
  {
   "cell_type": "markdown",
   "id": "7373dcd8",
   "metadata": {},
   "source": [
    "## Auotencoder"
   ]
  },
  {
   "cell_type": "markdown",
   "id": "5aff2b68",
   "metadata": {},
   "source": [
    "**packages**"
   ]
  },
  {
   "cell_type": "code",
   "execution_count": 3,
   "id": "8b3b896f",
   "metadata": {},
   "outputs": [],
   "source": [
    "import torch\n",
    "from torchvision import datasets\n",
    "from torchvision import transforms\n",
    "from torch.utils.data import Dataset\n",
    "from torch.utils.data import DataLoader\n",
    "from torch import nn\n",
    "\n",
    "import numpy as np\n",
    "import os\n",
    "import matplotlib.pyplot as plt"
   ]
  },
  {
   "cell_type": "markdown",
   "id": "3037c425",
   "metadata": {},
   "source": [
    "**Loading MNIST dataset**"
   ]
  },
  {
   "cell_type": "code",
   "execution_count": 5,
   "id": "4115295f",
   "metadata": {
    "scrolled": true
   },
   "outputs": [],
   "source": [
    "mnist_data = datasets.MNIST(root = \"./data\",\n",
    "                         train = True,\n",
    "                         download = True,\n",
    "                         transform = transforms.ToTensor())\n",
    " "
   ]
  },
  {
   "cell_type": "markdown",
   "id": "afd010b1",
   "metadata": {},
   "source": [
    "**Creating Train Data Loader**"
   ]
  },
  {
   "cell_type": "code",
   "execution_count": 6,
   "id": "653390f9",
   "metadata": {},
   "outputs": [],
   "source": [
    "train_loader = DataLoader(dataset = mnist_data, batch_size = 32, shuffle = True)"
   ]
  },
  {
   "cell_type": "markdown",
   "id": "36d109fd",
   "metadata": {},
   "source": [
    "**Building Autoencoder Network**"
   ]
  },
  {
   "cell_type": "code",
   "execution_count": 8,
   "id": "aaaec8ef",
   "metadata": {},
   "outputs": [],
   "source": [
    "class autoencoder(torch.nn.Module):\n",
    "    def __init__(self):\n",
    "        super().__init__()\n",
    "        self.encoder = torch.nn.Sequential(\n",
    "            torch.nn.Flatten(),\n",
    "            torch.nn.Linear(784, 256),\n",
    "            torch.nn.ReLU(),\n",
    "            torch.nn.Linear(256, 64),\n",
    "            torch.nn.ReLU(),\n",
    "            torch.nn.Linear(64, 32)\n",
    "        )\n",
    "        self.decoder = torch.nn.Sequential(\n",
    "            torch.nn.Linear(32, 64),\n",
    "            torch.nn.ReLU(),\n",
    "            torch.nn.Linear(64, 256),\n",
    "            torch.nn.ReLU(),\n",
    "            torch.nn.Linear(256, 784),\n",
    "            torch.nn.Sigmoid()\n",
    "        )\n",
    " \n",
    "    def forward(self, x):\n",
    "        encoded = self.encoder(x)\n",
    "        decoded = self.decoder(encoded)\n",
    "        return encoded, decoded"
   ]
  },
  {
   "cell_type": "markdown",
   "id": "9d78b8e4",
   "metadata": {},
   "source": [
    "**Initializing Loss and Optimizer**"
   ]
  },
  {
   "cell_type": "code",
   "execution_count": 6,
   "id": "d7f84052",
   "metadata": {},
   "outputs": [],
   "source": [
    "model = autoencoder()\n",
    "MSE = torch.nn.MSELoss()\n",
    "optimizer = torch.optim.Adam(model.parameters(), lr = 0.001, weight_decay=0.0000001)\n"
   ]
  },
  {
   "cell_type": "markdown",
   "id": "e19024fa",
   "metadata": {},
   "source": [
    "**Trainer Function**"
   ]
  },
  {
   "cell_type": "code",
   "execution_count": 9,
   "id": "662cb075",
   "metadata": {},
   "outputs": [],
   "source": [
    "def trainer(epochs):\n",
    "    losses = []\n",
    "    for epoch in range(epochs):\n",
    "        for (images, labels) in train_loader:\n",
    "            encoded, decoded = model(images)\n",
    "\n",
    "            loss = MSE(decoded, images.reshape(-1, 784))\n",
    "            \n",
    "\n",
    "            optimizer.zero_grad()\n",
    "            loss.backward()\n",
    "            optimizer.steptorch()\n",
    "\n",
    "            losses.append(loss)\n",
    "            \n",
    "        print('Mean Loss after epoch ',epoch,':', loss.mean())\n"
   ]
  },
  {
   "cell_type": "code",
   "execution_count": 10,
   "id": "87d3487f",
   "metadata": {
    "scrolled": true
   },
   "outputs": [
    {
     "name": "stdout",
     "output_type": "stream",
     "text": [
      "Mean Loss after epoch  0 : tensor(0.0216, grad_fn=<MeanBackward0>)\n",
      "Mean Loss after epoch  1 : tensor(0.0163, grad_fn=<MeanBackward0>)\n",
      "Mean Loss after epoch  2 : tensor(0.0118, grad_fn=<MeanBackward0>)\n",
      "Mean Loss after epoch  3 : tensor(0.0130, grad_fn=<MeanBackward0>)\n",
      "Mean Loss after epoch  4 : tensor(0.0081, grad_fn=<MeanBackward0>)\n",
      "Mean Loss after epoch  5 : tensor(0.0081, grad_fn=<MeanBackward0>)\n",
      "Mean Loss after epoch  6 : tensor(0.0098, grad_fn=<MeanBackward0>)\n",
      "Mean Loss after epoch  7 : tensor(0.0077, grad_fn=<MeanBackward0>)\n",
      "Mean Loss after epoch  8 : tensor(0.0082, grad_fn=<MeanBackward0>)\n",
      "Mean Loss after epoch  9 : tensor(0.0056, grad_fn=<MeanBackward0>)\n",
      "Mean Loss after epoch  10 : tensor(0.0089, grad_fn=<MeanBackward0>)\n",
      "Mean Loss after epoch  11 : tensor(0.0075, grad_fn=<MeanBackward0>)\n",
      "Mean Loss after epoch  12 : tensor(0.0063, grad_fn=<MeanBackward0>)\n",
      "Mean Loss after epoch  13 : tensor(0.0078, grad_fn=<MeanBackward0>)\n",
      "Mean Loss after epoch  14 : tensor(0.0078, grad_fn=<MeanBackward0>)\n",
      "Mean Loss after epoch  15 : tensor(0.0068, grad_fn=<MeanBackward0>)\n",
      "Mean Loss after epoch  16 : tensor(0.0067, grad_fn=<MeanBackward0>)\n",
      "Mean Loss after epoch  17 : tensor(0.0060, grad_fn=<MeanBackward0>)\n",
      "Mean Loss after epoch  18 : tensor(0.0065, grad_fn=<MeanBackward0>)\n",
      "Mean Loss after epoch  19 : tensor(0.0055, grad_fn=<MeanBackward0>)\n"
     ]
    }
   ],
   "source": [
    "trainer(20)"
   ]
  },
  {
   "cell_type": "markdown",
   "id": "2a5a74c2",
   "metadata": {},
   "source": [
    "**Save model**"
   ]
  },
  {
   "cell_type": "code",
   "execution_count": 20,
   "id": "16d2b7d7",
   "metadata": {},
   "outputs": [],
   "source": [
    "torch.save(model.state_dict(), os.path.join('models', 'auto_encoder_model.pth'))\n"
   ]
  },
  {
   "cell_type": "markdown",
   "id": "99f055a9",
   "metadata": {},
   "source": [
    "**Load model**"
   ]
  },
  {
   "cell_type": "code",
   "execution_count": 9,
   "id": "e26a6c69",
   "metadata": {},
   "outputs": [
    {
     "data": {
      "text/plain": [
       "<All keys matched successfully>"
      ]
     },
     "execution_count": 9,
     "metadata": {},
     "output_type": "execute_result"
    }
   ],
   "source": [
    "model = autoencoder()\n",
    "model.load_state_dict(torch.load(os.path.join('models', 'auto_encoder_model.pth'), map_location=lambda storage, loc: storage))"
   ]
  },
  {
   "cell_type": "markdown",
   "id": "7c21d3d1",
   "metadata": {},
   "source": [
    "**Testing**"
   ]
  },
  {
   "cell_type": "code",
   "execution_count": 49,
   "id": "4b3808a3",
   "metadata": {},
   "outputs": [
    {
     "data": {
      "image/png": "[encoded data removed]",
      "text/plain": [
       "<Figure size 500x1500 with 10 Axes>"
      ]
     },
     "metadata": {},
     "output_type": "display_data"
    }
   ],
   "source": [
    "images, labels = next(iter(train_loader))\n",
    "encoded, dec_images = model(images)\n",
    "dec_images = dec_images.detach().numpy()\n",
    "fig, axes = plt.subplots(figsize=(5,15), nrows=5, ncols=2)\n",
    "\n",
    "for i in range(5):\n",
    "    ax = axes[i]\n",
    "    ax[0].imshow(images[i].reshape(28,28), cmap='gray')\n",
    "    ax[0].title.set_text(labels[i].item())\n",
    "    ax[0].axis('off')\n",
    "    \n",
    "    ax[1].imshow(dec_images[i].reshape(28,28), cmap='gray')\n",
    "    ax[1].title.set_text(str(labels[i].item())+'-decoded')\n",
    "    ax[1].axis('off')\n",
    "    \n",
    "    \n",
    "plt.show()"
   ]
  },
  {
   "cell_type": "markdown",
   "id": "e3f23241",
   "metadata": {},
   "source": [
    "**Encoded features of dimension 32**"
   ]
  },
  {
   "cell_type": "code",
   "execution_count": 54,
   "id": "df2f9a6e",
   "metadata": {},
   "outputs": [
    {
     "data": {
      "text/plain": [
       "torch.Size([32])"
      ]
     },
     "execution_count": 54,
     "metadata": {},
     "output_type": "execute_result"
    }
   ],
   "source": [
    "encoded[0].shape"
   ]
  },
  {
   "cell_type": "code",
   "execution_count": 48,
   "id": "f653092a",
   "metadata": {},
   "outputs": [
    {
     "data": {
      "text/plain": [
       "tensor([[-8.2582, -0.6311,  1.1807, -1.3694, -2.2765, -1.8769,  2.0295, -0.1060,\n",
       "          4.2401, -0.6941, -1.5917,  2.0675, -0.1685,  7.6786, -1.7673, -4.1686,\n",
       "          0.5358, -0.1188,  2.2064, -1.2285,  1.0169, -1.2751, -0.0219, -0.5468,\n",
       "         -2.8371, -4.3564,  2.6133, -0.0549, -2.0971,  4.3427, -1.2338, -4.7226],\n",
       "        [-1.2973, -1.7698,  1.7049, -0.5874,  3.3200,  0.9662, -0.6932,  2.2705,\n",
       "          0.3078, -1.5072, -2.1222, -4.0139,  1.8490,  4.8717, -2.4797,  0.8848,\n",
       "          0.3572, -3.6324, -2.8645, -0.3763, -3.2172,  2.2511,  0.1456, -1.6502,\n",
       "          4.9821, -1.3295, -1.8828,  0.6348,  0.0330, -1.1315, -0.4542, -2.2963],\n",
       "        [-3.6061, -0.0717,  2.3378, -1.8096,  1.5717, -0.5335, -2.2740,  1.2262,\n",
       "         -0.0094, -0.4703, -1.9620, -3.3267, -0.3404,  5.6577,  1.1234,  1.7341,\n",
       "         -0.3641, -2.7342, -1.0932,  0.9983, -3.5850,  0.0616, -2.2065, -0.9892,\n",
       "          5.3758,  2.9026,  0.4070, -0.3925,  0.3189, -1.2339, -1.9242, -2.4663],\n",
       "        [-4.7400, -1.2443,  1.0815, -4.4914,  2.7582,  0.5264, -2.2426, -0.9809,\n",
       "          0.8181, -1.9195, -0.9352,  1.5670,  1.4394,  4.3477,  1.9820,  0.3202,\n",
       "         -3.4284, -3.3242,  0.7200, -4.2102, -4.6855,  0.1355, -1.1617, -0.6917,\n",
       "          5.7614, -0.7683,  1.9715,  1.5569,  2.1822, -0.5463, -0.1021, -2.8567],\n",
       "        [-7.0395,  2.8746,  0.4912, -2.6671,  0.8020,  2.6770, -2.0842,  3.4808,\n",
       "         -1.9768,  0.4929, -3.6410, -0.4208,  0.0974,  5.0094,  3.0495, -2.5270,\n",
       "         -1.6386, -1.3775,  0.3341, -5.1673, -2.3947,  2.6300,  1.7826, -0.0143,\n",
       "          0.2574, -0.1903,  0.7294, -1.1634, -2.3647, -3.1872, -0.3280, -0.2192]],\n",
       "       grad_fn=<SliceBackward0>)"
      ]
     },
     "execution_count": 48,
     "metadata": {},
     "output_type": "execute_result"
    }
   ],
   "source": [
    "encoded[:5]"
   ]
  }
 ],
 "metadata": {
  "kernelspec": {
   "display_name": "Python 3 (ipykernel)",
   "language": "python",
   "name": "python3"
  },
  "language_info": {
   "codemirror_mode": {
    "name": "ipython",
    "version": 3
   },
   "file_extension": ".py",
   "mimetype": "text/x-python",
   "name": "python",
   "nbconvert_exporter": "python",
   "pygments_lexer": "ipython3",
   "version": "3.9.12"
  }
 },
 "nbformat": 4,
 "nbformat_minor": 5
}
