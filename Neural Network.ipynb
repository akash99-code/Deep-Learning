{
 "cells": [
  {
   "cell_type": "markdown",
   "id": "476cefc6-75e5-47fa-8c55-208e7e8cdee9",
   "metadata": {},
   "source": [
    "# Building Neural Network from scratch"
   ]
  },
  {
   "cell_type": "code",
   "execution_count": 2,
   "id": "5d4cd264-5aed-4a63-93bd-d5b23ceda4cc",
   "metadata": {},
   "outputs": [],
   "source": [
    "import numpy as np"
   ]
  },
  {
   "cell_type": "markdown",
   "id": "dbcf294b-7762-4132-a2a9-72433b5d8470",
   "metadata": {},
   "source": [
    "#### Input data"
   ]
  },
  {
   "cell_type": "code",
   "execution_count": 171,
   "id": "e2d48300-c155-4f29-a489-e3f3653f9923",
   "metadata": {},
   "outputs": [
    {
     "data": {
      "text/plain": [
       "array([0.05, 0.1 ])"
      ]
     },
     "execution_count": 171,
     "metadata": {},
     "output_type": "execute_result"
    }
   ],
   "source": [
    "X=np.array([0.05, \n",
    "   0.1])\n",
    "X"
   ]
  },
  {
   "cell_type": "markdown",
   "id": "729dc375-a24e-4305-ae5b-11a37a6790a8",
   "metadata": {},
   "source": [
    "#### Ground Truth"
   ]
  },
  {
   "cell_type": "code",
   "execution_count": 172,
   "id": "50e2e437-fec7-45b6-8325-79f63aeff0a7",
   "metadata": {},
   "outputs": [
    {
     "data": {
      "text/plain": [
       "array([0.01, 0.99])"
      ]
     },
     "execution_count": 172,
     "metadata": {},
     "output_type": "execute_result"
    }
   ],
   "source": [
    "Y = np.array([0.01, \n",
    "   0.99])\n",
    "Y"
   ]
  },
  {
   "cell_type": "markdown",
   "id": "29cb9014-2d25-4367-b7cd-0633a3b4d742",
   "metadata": {},
   "source": [
    "### Forward Propagation"
   ]
  },
  {
   "cell_type": "code",
   "execution_count": 173,
   "id": "08683826-1324-461a-94ff-5a742a9b8516",
   "metadata": {},
   "outputs": [],
   "source": [
    "def sigmoid(x):\n",
    "    return 1/(1 + np.exp(-x))"
   ]
  },
  {
   "cell_type": "code",
   "execution_count": 175,
   "id": "362577f0-d1b2-4940-891e-13385a2b1a4d",
   "metadata": {},
   "outputs": [],
   "source": [
    "def forward_prop(W, b , X, activation='sigmoid'):\n",
    "    h = W@X.T + b\n",
    "    if  activation=='sigmoid':\n",
    "        h = sigmoid(h)\n",
    "    return np.around(h, 4)"
   ]
  },
  {
   "cell_type": "markdown",
   "id": "fd3b1119-27c6-44c5-9b51-9ab66e2468ba",
   "metadata": {},
   "source": [
    "#### Hiden Layer 1"
   ]
  },
  {
   "cell_type": "code",
   "execution_count": 176,
   "id": "a69ae110-fb32-457c-826e-7339ed4c926e",
   "metadata": {},
   "outputs": [
    {
     "name": "stdout",
     "output_type": "stream",
     "text": [
      "[0.5945 0.5963]\n"
     ]
    }
   ],
   "source": [
    "W1=np.array([[0.15, 0.25],\n",
    "    [0.2, 0.3]])\n",
    "b1 =np.array([0.35,\n",
    "     0.35])\n",
    "\n",
    "h1 = forward_prop(W1, b1, X)\n",
    "print(h1)"
   ]
  },
  {
   "cell_type": "markdown",
   "id": "93738f04-9e4b-41be-8b70-660a74ee8f5a",
   "metadata": {},
   "source": [
    "#### Output layer"
   ]
  },
  {
   "cell_type": "code",
   "execution_count": 177,
   "id": "ffa3a084-efbf-4ba8-a3a1-1cf0877cb523",
   "metadata": {},
   "outputs": [
    {
     "name": "stdout",
     "output_type": "stream",
     "text": [
      "[0.7569 0.7677]\n"
     ]
    }
   ],
   "source": [
    "W2=np.array([[0.4, 0.5],\n",
    "    [0.45, 0.55]])\n",
    "b2 =np.array([0.6,\n",
    "     0.6])\n",
    "\n",
    "O = forward_prop(W2, b2, h1)\n",
    "print(O)"
   ]
  },
  {
   "cell_type": "markdown",
   "id": "bf8dea92-ed82-4d6d-9442-c917f35d3af4",
   "metadata": {},
   "source": [
    "### Loss"
   ]
  },
  {
   "cell_type": "code",
   "execution_count": 178,
   "id": "589296b4-e6bd-43e1-8ae6-94451bca8dd2",
   "metadata": {},
   "outputs": [],
   "source": [
    "def MSE(y, yhat):\n",
    "    diff = (yhat -y)\n",
    "    loss = 0.5*diff.T@diff\n",
    "    return loss"
   ]
  },
  {
   "cell_type": "code",
   "execution_count": 179,
   "id": "5d3877b9-8138-45d7-ab2e-69b901260859",
   "metadata": {},
   "outputs": [
    {
     "data": {
      "text/plain": [
       "0.30363845"
      ]
     },
     "execution_count": 179,
     "metadata": {},
     "output_type": "execute_result"
    }
   ],
   "source": [
    "Loss = MSE(Y, O)\n",
    "Loss"
   ]
  },
  {
   "cell_type": "markdown",
   "id": "a56f231b-a289-4533-9dee-fa81b7b34193",
   "metadata": {
    "tags": []
   },
   "source": [
    "### Backpropagation"
   ]
  },
  {
   "cell_type": "markdown",
   "id": "584d8e00-d968-4b47-b414-1d0ed50ab33f",
   "metadata": {},
   "source": [
    "#### Gradient funcitions"
   ]
  },
  {
   "cell_type": "code",
   "execution_count": 180,
   "id": "5866d73c-0c1f-498e-ae78-f3debc0503b1",
   "metadata": {},
   "outputs": [],
   "source": [
    "def ouputGrad(y, yhat):\n",
    "    return (yhat-y)"
   ]
  },
  {
   "cell_type": "code",
   "execution_count": 181,
   "id": "51561bb8-c2cc-44ee-877d-508441349f20",
   "metadata": {},
   "outputs": [],
   "source": [
    "def sigmoidGrad(houtput, outgrad):\n",
    "    grad = houtput*(1-houtput) * outgrad\n",
    "    return grad"
   ]
  },
  {
   "cell_type": "code",
   "execution_count": 182,
   "id": "83ca003c-22dc-494b-99d7-1254761d269b",
   "metadata": {},
   "outputs": [],
   "source": [
    "def weightGrad(hinput, outgrad):\n",
    "    grad = np.expand_dims(outgrad, axis=1)*hinput.T\n",
    "    return grad"
   ]
  },
  {
   "cell_type": "code",
   "execution_count": 183,
   "id": "78926ff3-7925-415e-8383-6a064db22be8",
   "metadata": {},
   "outputs": [],
   "source": [
    "def hiddenUnitGrad(W, outgrad):\n",
    "    grad = W@outgrad.T\n",
    "    return grad"
   ]
  },
  {
   "cell_type": "markdown",
   "id": "9c04d680-b7f5-48db-bd5f-8817a287088a",
   "metadata": {
    "tags": []
   },
   "source": [
    "#### Calculating Gradients"
   ]
  },
  {
   "cell_type": "markdown",
   "id": "fc51fbe6-8622-40ab-9fb2-d52b619b5c1f",
   "metadata": {},
   "source": [
    "- Gradient of Loss wrt output probabilities"
   ]
  },
  {
   "cell_type": "code",
   "execution_count": 184,
   "id": "e5f56536-ffd5-4772-983c-8f57c98eab33",
   "metadata": {},
   "outputs": [
    {
     "data": {
      "text/plain": [
       "array([ 0.7469, -0.2223])"
      ]
     },
     "execution_count": 184,
     "metadata": {},
     "output_type": "execute_result"
    }
   ],
   "source": [
    "Ograd = ouputGrad(Y, O)\n",
    "Ograd"
   ]
  },
  {
   "cell_type": "markdown",
   "id": "df1e096e-f5d0-42a8-bb06-480fbdb1468e",
   "metadata": {},
   "source": [
    "- Gradient of Loss wrt output score"
   ]
  },
  {
   "cell_type": "code",
   "execution_count": 185,
   "id": "222c81a1-129d-4bb7-9d48-11743e6f3cc5",
   "metadata": {},
   "outputs": [
    {
     "data": {
      "text/plain": [
       "array([ 0.13743139, -0.03964425])"
      ]
     },
     "execution_count": 185,
     "metadata": {},
     "output_type": "execute_result"
    }
   ],
   "source": [
    "a2Grad = sigmoidGrad(O, Ograd)\n",
    "a2Grad"
   ]
  },
  {
   "cell_type": "markdown",
   "id": "07d67595-5e70-4653-8e49-3bda6b33ddce",
   "metadata": {},
   "source": [
    "- Gradient of Loss wrt output 2nd layer Weights"
   ]
  },
  {
   "cell_type": "code",
   "execution_count": 186,
   "id": "2f339bdf-2ef5-4584-9382-4cbb2853ccf0",
   "metadata": {},
   "outputs": [
    {
     "data": {
      "text/plain": [
       "array([[ 0.08170296,  0.08195033],\n",
       "       [-0.02356851, -0.02363987]])"
      ]
     },
     "execution_count": 186,
     "metadata": {},
     "output_type": "execute_result"
    }
   ],
   "source": [
    "W2grad = weightGrad(h1, a2Grad)\n",
    "W2grad"
   ]
  },
  {
   "cell_type": "markdown",
   "id": "ce867f3d-3b9a-45a7-8a6f-743c60b1585a",
   "metadata": {},
   "source": [
    "- Gradient of Loss wrt 2nd layer Biases"
   ]
  },
  {
   "cell_type": "code",
   "execution_count": 187,
   "id": "978c704e-e6f6-4c66-88c2-86c4000c06c3",
   "metadata": {},
   "outputs": [],
   "source": [
    "b2grad = a2Grad"
   ]
  },
  {
   "cell_type": "markdown",
   "id": "50de82bc-71c6-4e8a-a3e5-a94c82aa3cc2",
   "metadata": {},
   "source": [
    "- Gradient of Loss wrt 2nd layer Inputs"
   ]
  },
  {
   "cell_type": "code",
   "execution_count": 188,
   "id": "ec4a646b-d34c-4a55-b51a-31bdf83b970c",
   "metadata": {},
   "outputs": [
    {
     "data": {
      "text/plain": [
       "array([0.03515043, 0.04003979])"
      ]
     },
     "execution_count": 188,
     "metadata": {},
     "output_type": "execute_result"
    }
   ],
   "source": [
    "h1Grad = hiddenUnitGrad(W2, a2Grad)\n",
    "h1Grad"
   ]
  },
  {
   "cell_type": "markdown",
   "id": "c8632ff8-ad98-43aa-a44a-a18eb245959a",
   "metadata": {},
   "source": [
    "- Gradient of Loss wrt 1st layer aggregation"
   ]
  },
  {
   "cell_type": "code",
   "execution_count": 189,
   "id": "b998dd4b-be19-4195-a710-b9ccad998e24",
   "metadata": {},
   "outputs": [
    {
     "data": {
      "text/plain": [
       "array([0.00847371, 0.00963863])"
      ]
     },
     "execution_count": 189,
     "metadata": {},
     "output_type": "execute_result"
    }
   ],
   "source": [
    "a1grad = sigmoidGrad(h1, h1Grad)\n",
    "a1grad"
   ]
  },
  {
   "cell_type": "markdown",
   "id": "03cb7ecd-4cda-423d-8282-c9d116b558b3",
   "metadata": {},
   "source": [
    "- Gradient of Loss wrt 1st layer Weights"
   ]
  },
  {
   "cell_type": "code",
   "execution_count": 190,
   "id": "a6ecb453-0136-44d3-93f6-519e2f30ca81",
   "metadata": {},
   "outputs": [
    {
     "data": {
      "text/plain": [
       "array([[0.00042369, 0.00084737],\n",
       "       [0.00048193, 0.00096386]])"
      ]
     },
     "execution_count": 190,
     "metadata": {},
     "output_type": "execute_result"
    }
   ],
   "source": [
    "W1grad = weightGrad(X, a1grad)\n",
    "W1grad"
   ]
  },
  {
   "cell_type": "markdown",
   "id": "2a2f04a0-4601-404e-b735-91d17f0d6fd2",
   "metadata": {},
   "source": [
    "- Gradient of Loss wrt 1st layer Biases"
   ]
  },
  {
   "cell_type": "code",
   "execution_count": 191,
   "id": "d84fc912-4cbf-4b5c-ac0c-af5532d352c5",
   "metadata": {},
   "outputs": [],
   "source": [
    "b1grad = a1grad"
   ]
  },
  {
   "cell_type": "markdown",
   "id": "72186e4e-53ba-47a9-be7f-3eb4b24e61e9",
   "metadata": {},
   "source": [
    "#### Updating Learnable parameters "
   ]
  },
  {
   "cell_type": "code",
   "execution_count": 197,
   "id": "8e710726-f84d-49b6-9ee8-eb418bf1fa93",
   "metadata": {},
   "outputs": [],
   "source": [
    "def para_update(parameter,gradient, alpha):\n",
    "    parameter= parameter - alpha*gradient\n",
    "    return parameter"
   ]
  },
  {
   "cell_type": "code",
   "execution_count": 193,
   "id": "b3451842-a55b-4fcb-9f56-af521f300276",
   "metadata": {},
   "outputs": [],
   "source": [
    "## learning Rate\n",
    "alpha = 0.1"
   ]
  },
  {
   "cell_type": "code",
   "execution_count": 195,
   "id": "8b993894-dd50-4087-8f6a-58c3775ec7f5",
   "metadata": {},
   "outputs": [
    {
     "name": "stdout",
     "output_type": "stream",
     "text": [
      "Old parameters:\n",
      "W1 : [[0.15 0.25]\n",
      " [0.2  0.3 ]]\n",
      "b1 : [0.35 0.35]\n",
      "W2 : [[0.4  0.5 ]\n",
      " [0.45 0.55]]\n",
      "b2 : [0.6 0.6]\n"
     ]
    }
   ],
   "source": [
    "print('Old parameters:')\n",
    "print(\"W1 :\", W1)\n",
    "print(\"b1 :\", b1)\n",
    "print(\"W2 :\", W2)\n",
    "print(\"b2 :\", b2)\n"
   ]
  },
  {
   "cell_type": "code",
   "execution_count": 201,
   "id": "bbd00e91-92e6-47cf-9632-dac6ba3f02db",
   "metadata": {},
   "outputs": [],
   "source": [
    "## W2 update\n",
    "W2 = para_update(W2, W2grad, alpha)\n",
    "\n",
    "## b2 update\n",
    "b2 = para_update(b2, b2grad, alpha)\n",
    "\n",
    "## W1 update\n",
    "W1 = para_update(W1, W1grad, alpha)\n",
    "\n",
    "## b1 update\n",
    "b1 = para_update(b1, b1grad, alpha)\n"
   ]
  },
  {
   "cell_type": "code",
   "execution_count": 211,
   "id": "6bb85896-4bed-4e2d-be79-8005f2bd88ab",
   "metadata": {},
   "outputs": [
    {
     "name": "stdout",
     "output_type": "stream",
     "text": [
      "New parameters:\n",
      "W1 : [[0.14995763 0.24991526]\n",
      " [0.19995181 0.29990361]]\n",
      "b1 : [0.34915263 0.34903614]\n",
      "W2 : [[0.3918297  0.49180497]\n",
      " [0.45235685 0.55236399]]\n",
      "b2 : [0.58625686 0.60396443]\n"
     ]
    }
   ],
   "source": [
    "print('New parameters:')\n",
    "print(\"W1 :\", W1)\n",
    "print(\"b1 :\", b1)\n",
    "print(\"W2 :\", W2)\n",
    "print(\"b2 :\", b2)"
   ]
  }
 ],
 "metadata": {
  "kernelspec": {
   "display_name": "Python 3 (ipykernel)",
   "language": "python",
   "name": "python3"
  },
  "language_info": {
   "codemirror_mode": {
    "name": "ipython",
    "version": 3
   },
   "file_extension": ".py",
   "mimetype": "text/x-python",
   "name": "python",
   "nbconvert_exporter": "python",
   "pygments_lexer": "ipython3",
   "version": "3.9.12"
  }
 },
 "nbformat": 4,
 "nbformat_minor": 5
}
